{
 "cells": [
  {
   "cell_type": "code",
   "execution_count": 1,
   "id": "491a756f",
   "metadata": {},
   "outputs": [],
   "source": [
    "item1 = 'Hot Dog'\n",
    "item2 = 'Donuts'\n",
    "item3 = 'Burger'\n",
    "item4 = 'Pizza'\n",
    "\n",
    "prize1 = '30$'\n",
    "prize2 = '40$'\n",
    "prize3 = '35$'\n",
    "prize4 = '65$'"
   ]
  },
  {
   "cell_type": "code",
   "execution_count": 7,
   "id": "fc4c70ce",
   "metadata": {},
   "outputs": [
    {
     "name": "stdout",
     "output_type": "stream",
     "text": [
      "Menu Card\n",
      "Hot Dog---------------30$\n",
      "Donuts----------------40$\n",
      "Burger----------------35$\n",
      "Pizza-----------------65$\n"
     ]
    }
   ],
   "source": [
    "limit_len = 25\n",
    "\n",
    "print(\"Menu Card\")\n",
    "dash1 = limit_len - (len(item1) + len(prize1)) \n",
    "dash2 = limit_len - (len(item2) + len(prize2)) \n",
    "dash3 = limit_len - (len(item3) + len(prize3))\n",
    "dash4 = limit_len - (len(item4) + len(prize4))  \n",
    "\n",
    "print(item1 + ('-' * dash1) + prize1)\n",
    "print(item2 + ('-' * dash2) + prize2)\n",
    "print(item3 + ('-' * dash3) + prize3)\n",
    "print(item4 + ('-' * dash4) + prize4)"
   ]
  },
  {
   "cell_type": "code",
   "execution_count": null,
   "id": "3ebb586d",
   "metadata": {},
   "outputs": [],
   "source": []
  }
 ],
 "metadata": {
  "kernelspec": {
   "display_name": "Python 3",
   "language": "python",
   "name": "python3"
  },
  "language_info": {
   "codemirror_mode": {
    "name": "ipython",
    "version": 3
   },
   "file_extension": ".py",
   "mimetype": "text/x-python",
   "name": "python",
   "nbconvert_exporter": "python",
   "pygments_lexer": "ipython3",
   "version": "3.11.9"
  }
 },
 "nbformat": 4,
 "nbformat_minor": 5
}
