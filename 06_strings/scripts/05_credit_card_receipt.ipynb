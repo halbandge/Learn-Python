{
 "cells": [
  {
   "cell_type": "code",
   "execution_count": 3,
   "id": "ed1ebb9f",
   "metadata": {},
   "outputs": [
    {
     "name": "stdout",
     "output_type": "stream",
     "text": [
      "Credit Card Number: 4455 1122 3344 5566\n"
     ]
    }
   ],
   "source": [
    "credit_card = input(\"Enter your credit card number:\")\n",
    "print(\"Credit Card Number:\", credit_card)"
   ]
  },
  {
   "cell_type": "code",
   "execution_count": 7,
   "id": "a304001c",
   "metadata": {},
   "outputs": [
    {
     "name": "stdout",
     "output_type": "stream",
     "text": [
      "XXXX XXXX XXXX 5566\n"
     ]
    }
   ],
   "source": [
    "display_no = 'XXXX ' * 3 + credit_card[-4:]\n",
    "print(display_no)"
   ]
  },
  {
   "cell_type": "code",
   "execution_count": 8,
   "id": "a5b39638",
   "metadata": {},
   "outputs": [
    {
     "name": "stdout",
     "output_type": "stream",
     "text": [
      "Transaction Alert\n",
      "Amount $1000 has been debited from your card XXXX XXXX XXXX 5566\n"
     ]
    }
   ],
   "source": [
    "print('''Transaction Alert\n",
    "Amount $1000 has been debited from your card''', display_no)"
   ]
  }
 ],
 "metadata": {
  "kernelspec": {
   "display_name": "Python 3",
   "language": "python",
   "name": "python3"
  },
  "language_info": {
   "codemirror_mode": {
    "name": "ipython",
    "version": 3
   },
   "file_extension": ".py",
   "mimetype": "text/x-python",
   "name": "python",
   "nbconvert_exporter": "python",
   "pygments_lexer": "ipython3",
   "version": "3.11.9"
  }
 },
 "nbformat": 4,
 "nbformat_minor": 5
}
