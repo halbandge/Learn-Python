{
 "cells": [
  {
   "cell_type": "markdown",
   "id": "945f8513",
   "metadata": {},
   "source": [
    "### find()"
   ]
  },
  {
   "cell_type": "code",
   "execution_count": null,
   "id": "4d566430",
   "metadata": {},
   "outputs": [
    {
     "name": "stdout",
     "output_type": "stream",
     "text": [
      "6\n",
      "-1\n",
      "4\n",
      "7\n"
     ]
    }
   ],
   "source": [
    "# find()\n",
    "# find(sub, start, end)\n",
    "s = 'Hello How are You'\n",
    "print(s.find('How'))\n",
    "\n",
    "print(s.find('k')) # in find, if not present it will return -1\n",
    "# -1 means substring is not found\n",
    "\n",
    "# to get first occurence of O\n",
    "print(s.find('o'))\n",
    "\n",
    "# to get second occurence of O\n",
    "print(s.find('o', 5)) # start and end parameters are optional"
   ]
  },
  {
   "cell_type": "markdown",
   "id": "fadb2617",
   "metadata": {},
   "source": [
    "### rfind()"
   ]
  },
  {
   "cell_type": "code",
   "execution_count": 9,
   "id": "aaea3639",
   "metadata": {},
   "outputs": [
    {
     "name": "stdout",
     "output_type": "stream",
     "text": [
      "15\n",
      "7\n"
     ]
    }
   ],
   "source": [
    "# rfind() -> will search for substring from right hand side\n",
    "# rfind(sub, start, end)\n",
    "\n",
    "s = 'Hello How are You'\n",
    "\n",
    "print(s.rfind('o')) # gives last occurence of O\n",
    "\n",
    "print(s.rfind('o', 0, 15)) # gives second last occurence of O"
   ]
  },
  {
   "cell_type": "markdown",
   "id": "8caf53b8",
   "metadata": {},
   "source": [
    "### index()"
   ]
  },
  {
   "cell_type": "code",
   "execution_count": null,
   "id": "f9c0fd14",
   "metadata": {},
   "outputs": [
    {
     "name": "stdout",
     "output_type": "stream",
     "text": [
      "4\n",
      "6\n"
     ]
    },
    {
     "ename": "ValueError",
     "evalue": "substring not found",
     "output_type": "error",
     "traceback": [
      "\u001b[31m---------------------------------------------------------------------------\u001b[39m",
      "\u001b[31mValueError\u001b[39m                                Traceback (most recent call last)",
      "\u001b[36mCell\u001b[39m\u001b[36m \u001b[39m\u001b[32mIn[12]\u001b[39m\u001b[32m, line 10\u001b[39m\n\u001b[32m      6\u001b[39m \u001b[38;5;28mprint\u001b[39m(s.index(\u001b[33m'\u001b[39m\u001b[33mo\u001b[39m\u001b[33m'\u001b[39m))\n\u001b[32m      8\u001b[39m \u001b[38;5;28mprint\u001b[39m(s.index(\u001b[33m'\u001b[39m\u001b[33mHow\u001b[39m\u001b[33m'\u001b[39m))\n\u001b[32m---> \u001b[39m\u001b[32m10\u001b[39m \u001b[38;5;28mprint\u001b[39m(\u001b[43ms\u001b[49m\u001b[43m.\u001b[49m\u001b[43mindex\u001b[49m\u001b[43m(\u001b[49m\u001b[33;43m'\u001b[39;49m\u001b[33;43mk\u001b[39;49m\u001b[33;43m'\u001b[39;49m\u001b[43m)\u001b[49m)\n",
      "\u001b[31mValueError\u001b[39m: substring not found"
     ]
    }
   ],
   "source": [
    "# index()\n",
    "# index(sub, start, end)\n",
    "\n",
    "s = 'Hello How are You'\n",
    "\n",
    "print(s.index('o'))\n",
    "\n",
    "print(s.index('How'))\n",
    "\n",
    "print(s.index('k')) # in index, if substring not found it will throw an error [which we don't get in find()]"
   ]
  },
  {
   "cell_type": "markdown",
   "id": "4ad8155b",
   "metadata": {},
   "source": [
    "### rindex()"
   ]
  },
  {
   "cell_type": "code",
   "execution_count": null,
   "id": "cc116355",
   "metadata": {},
   "outputs": [
    {
     "name": "stdout",
     "output_type": "stream",
     "text": [
      "15\n",
      "7\n"
     ]
    }
   ],
   "source": [
    "# rindex()\n",
    "# rindex(sub, start, end)\n",
    "\n",
    "s = 'Hello How are You'\n",
    "\n",
    "print(s.rindex('o')) # gives last occurence of O\n",
    "\n",
    "print(s.rindex('o', 0, 15)) # gives second last occurence of O"
   ]
  },
  {
   "cell_type": "markdown",
   "id": "30de6432",
   "metadata": {},
   "source": [
    "### count()"
   ]
  },
  {
   "cell_type": "code",
   "execution_count": 17,
   "id": "ec1bcc45",
   "metadata": {},
   "outputs": [
    {
     "name": "stdout",
     "output_type": "stream",
     "text": [
      "3\n",
      "0\n"
     ]
    }
   ],
   "source": [
    "# count()\n",
    "# count(sub, start, end)\n",
    "\n",
    "s = 'Hello How are You'\n",
    "\n",
    "print(s.count('o')) # tells you how many times elemnent occures in the string\n",
    "\n",
    "print(s.count('me'))"
   ]
  },
  {
   "cell_type": "markdown",
   "id": "4d4345f2",
   "metadata": {},
   "source": [
    "### lstrip()"
   ]
  },
  {
   "cell_type": "code",
   "execution_count": 23,
   "id": "a510868b",
   "metadata": {},
   "outputs": [
    {
     "name": "stdout",
     "output_type": "stream",
     "text": [
      "   Hello\n",
      "Hello\n",
      "$$Hello\n",
      "$$Hello\n",
      "Hello\n"
     ]
    }
   ],
   "source": [
    "# lstrip()\n",
    "# lstrip(chars)\n",
    "\n",
    "s = '   Hello'\n",
    "print(s)\n",
    "\n",
    "print(s.lstrip())\n",
    "\n",
    "s = '$$Hello'\n",
    "print(s)\n",
    "\n",
    "print(s.lstrip())\n",
    "print(s.lstrip('$'))"
   ]
  },
  {
   "cell_type": "markdown",
   "id": "c5dad127",
   "metadata": {},
   "source": [
    "### rstrip()"
   ]
  },
  {
   "cell_type": "code",
   "execution_count": 25,
   "id": "f19c52be",
   "metadata": {},
   "outputs": [
    {
     "name": "stdout",
     "output_type": "stream",
     "text": [
      "Hello!!\n",
      "Hello\n"
     ]
    }
   ],
   "source": [
    "# rstrip()\n",
    "# rstrip(chars)\n",
    "\n",
    "s = 'Hello!!'\n",
    "print(s)\n",
    "\n",
    "print(s.rstrip('!'))"
   ]
  },
  {
   "cell_type": "markdown",
   "id": "b75b09f3",
   "metadata": {},
   "source": [
    "### strip()"
   ]
  },
  {
   "cell_type": "code",
   "execution_count": 33,
   "id": "10ab225c",
   "metadata": {},
   "outputs": [
    {
     "name": "stdout",
     "output_type": "stream",
     "text": [
      "##Hello##\n",
      "##Hello##\n",
      "Hello\n"
     ]
    }
   ],
   "source": [
    "# strip()\n",
    "# strip(chars)\n",
    "\n",
    "s = '##Hello##'\n",
    "print(s)\n",
    "\n",
    "print(s.strip())\n",
    "print(s.strip('#'))"
   ]
  },
  {
   "cell_type": "markdown",
   "id": "46f7aa8f",
   "metadata": {},
   "source": [
    "### replace()"
   ]
  },
  {
   "cell_type": "code",
   "execution_count": 39,
   "id": "2836cd50",
   "metadata": {},
   "outputs": [
    {
     "name": "stdout",
     "output_type": "stream",
     "text": [
      "a-b-c-d-e\n",
      "a*b*c*d*e\n",
      "a,b,c,d-e\n",
      "a-b-c-d-e\n",
      "abcd@gmail.com\n",
      "abcd@yahoo.com\n"
     ]
    }
   ],
   "source": [
    "# replace(old, new, count)\n",
    "s1 = 'a-b-c-d-e'\n",
    "print(s1)\n",
    "\n",
    "print(s1.replace('-', '*'))\n",
    "\n",
    "print(s1.replace('-', ',', 3)) # it replaces only for 3\n",
    "\n",
    "print(s1.replace('k', 'm')) # since k is not there it returns original string\n",
    "\n",
    "s2 = 'abcd@gmail.com'\n",
    "print(s2)\n",
    "\n",
    "print(s2.replace('gmail', 'yahoo'))"
   ]
  },
  {
   "cell_type": "markdown",
   "id": "039745c4",
   "metadata": {},
   "source": [
    "### join()"
   ]
  },
  {
   "cell_type": "code",
   "execution_count": 42,
   "id": "b8f56c48",
   "metadata": {},
   "outputs": [
    {
     "name": "stdout",
     "output_type": "stream",
     "text": [
      "axyzbxyzc\n",
      "a/b/c\n"
     ]
    }
   ],
   "source": [
    "# join(iterable)\n",
    "\n",
    "s1 = 'xyz'\n",
    "s2 = 'abc'\n",
    "\n",
    "print(s1.join(s2))\n",
    "\n",
    "s1 = '/'\n",
    "s2 = 'abc'\n",
    "\n",
    "print(s1.join(s2))"
   ]
  },
  {
   "cell_type": "markdown",
   "id": "51b70a36",
   "metadata": {},
   "source": [
    "### split()"
   ]
  },
  {
   "cell_type": "code",
   "execution_count": null,
   "id": "6df38807",
   "metadata": {},
   "outputs": [
    {
     "name": "stdout",
     "output_type": "stream",
     "text": [
      "John Smith Ajay\n",
      "['John', 'Smith', 'Ajay']\n",
      "['Jo', 'n Smit', ' Ajay']\n",
      "John,Smith,Ajay\n",
      "['John', 'Smith', 'Ajay']\n",
      "['John', 'Smith,Ajay']\n"
     ]
    }
   ],
   "source": [
    "# split(sep, maxsplit)\n",
    "\n",
    "s1 = 'John Smith Ajay'\n",
    "print(s1)\n",
    "\n",
    "print(s1.split())\n",
    "\n",
    "print(s1.split('h'))\n",
    "\n",
    "s2 = 'John,Smith,Ajay'\n",
    "print(s2)\n",
    "\n",
    "print(s2.split(','))\n",
    "\n",
    "print(s2.split(',', 1))"
   ]
  },
  {
   "cell_type": "markdown",
   "id": "36cb40da",
   "metadata": {},
   "source": [
    "### startswith()"
   ]
  },
  {
   "cell_type": "code",
   "execution_count": null,
   "id": "3a4a2bcd",
   "metadata": {},
   "outputs": [
    {
     "name": "stdout",
     "output_type": "stream",
     "text": [
      "True\n",
      "False\n",
      "True\n"
     ]
    }
   ],
   "source": [
    "# startswith(prefix, start, end)\n",
    "\n",
    "s1 = 'python is very easy'\n",
    "\n",
    "print(s1.startswith('python'))\n",
    "\n",
    "print(s1.startswith('is'))\n",
    "\n",
    "print(s1.startswith('is', 7))\n"
   ]
  },
  {
   "cell_type": "markdown",
   "id": "aecd9f44",
   "metadata": {},
   "source": [
    "### endswith()"
   ]
  },
  {
   "cell_type": "code",
   "execution_count": 53,
   "id": "765aff21",
   "metadata": {},
   "outputs": [
    {
     "name": "stdout",
     "output_type": "stream",
     "text": [
      "True\n",
      "True\n"
     ]
    }
   ],
   "source": [
    "# endswith(suffix, start, end)\n",
    "\n",
    "s1 = 'python is very easy'\n",
    "\n",
    "print(s1.endswith('easy'))\n",
    "\n",
    "s2 = 'abcd@gmail.com'\n",
    "\n",
    "print(s2.endswith('gmail.com'))"
   ]
  },
  {
   "cell_type": "markdown",
   "id": "64dc0715",
   "metadata": {},
   "source": [
    "### removeprefix()"
   ]
  },
  {
   "cell_type": "code",
   "execution_count": null,
   "id": "4d8a315d",
   "metadata": {},
   "outputs": [
    {
     "name": "stdout",
     "output_type": "stream",
     "text": [
      "thon programming\n"
     ]
    }
   ],
   "source": [
    "# removeprefix(prefix)\n",
    "\n",
    "s1 = 'python programming'\n",
    "\n",
    "print(s1.removeprefix('py'))\n",
    "\n",
    "print(s1.removeprefix('java'))"
   ]
  },
  {
   "cell_type": "markdown",
   "id": "397e3437",
   "metadata": {},
   "source": [
    "### removesuffix()"
   ]
  },
  {
   "cell_type": "code",
   "execution_count": 56,
   "id": "1db11d0a",
   "metadata": {},
   "outputs": [
    {
     "name": "stdout",
     "output_type": "stream",
     "text": [
      "python programm\n",
      "python programming\n"
     ]
    }
   ],
   "source": [
    "# removesuffix(suffix)\n",
    "\n",
    "s1 = 'python programming'\n",
    "\n",
    "print(s1.removesuffix('ing'))\n",
    "\n",
    "print(s1.removesuffix('java'))"
   ]
  },
  {
   "cell_type": "markdown",
   "id": "ef4e9bd7",
   "metadata": {},
   "source": [
    "### partition()"
   ]
  },
  {
   "cell_type": "code",
   "execution_count": 58,
   "id": "1c41bd53",
   "metadata": {},
   "outputs": [
    {
     "name": "stdout",
     "output_type": "stream",
     "text": [
      "python is easy\n",
      "('python ', 'is', ' easy')\n"
     ]
    }
   ],
   "source": [
    "# partition(sep)\n",
    "\n",
    "# Define a string variable s1 with the value 'python is easy'\n",
    "s1 = 'python is easy'\n",
    "\n",
    "# Print the original string\n",
    "print(s1)\n",
    "\n",
    "# Use the partition() method to split the string at the first occurrence of the word 'is'\n",
    "# It returns a tuple: (part_before, separator, part_after)\n",
    "print(s1.partition('is'))"
   ]
  },
  {
   "cell_type": "markdown",
   "id": "17bbb5e9",
   "metadata": {},
   "source": [
    "### rpartition()"
   ]
  },
  {
   "cell_type": "code",
   "execution_count": 59,
   "id": "f5412a60",
   "metadata": {},
   "outputs": [
    {
     "name": "stdout",
     "output_type": "stream",
     "text": [
      "('python is easy and it ', 'is', ' fun')\n"
     ]
    }
   ],
   "source": [
    "# rpartition(sep)\n",
    "\n",
    "# Define a string s2\n",
    "s2 = 'python is easy and it is fun'\n",
    "\n",
    "# Use rpartition() to split at the LAST occurrence of 'is'\n",
    "# Store the result in a variable called tgs\n",
    "tgs = s2.rpartition('is')\n",
    "\n",
    "# Print the result\n",
    "print(tgs)"
   ]
  },
  {
   "cell_type": "code",
   "execution_count": null,
   "id": "c789d097",
   "metadata": {},
   "outputs": [],
   "source": []
  }
 ],
 "metadata": {
  "kernelspec": {
   "display_name": "Python 3",
   "language": "python",
   "name": "python3"
  },
  "language_info": {
   "codemirror_mode": {
    "name": "ipython",
    "version": 3
   },
   "file_extension": ".py",
   "mimetype": "text/x-python",
   "name": "python",
   "nbconvert_exporter": "python",
   "pygments_lexer": "ipython3",
   "version": "3.11.9"
  }
 },
 "nbformat": 4,
 "nbformat_minor": 5
}
