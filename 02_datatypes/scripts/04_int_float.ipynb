{
 "cells": [
  {
   "cell_type": "code",
   "execution_count": 12,
   "id": "8022ab86",
   "metadata": {},
   "outputs": [
    {
     "name": "stdout",
     "output_type": "stream",
     "text": [
      "101\n"
     ]
    }
   ],
   "source": [
    "x = 101\n",
    "print(x)"
   ]
  },
  {
   "cell_type": "code",
   "execution_count": 13,
   "id": "f72a7345",
   "metadata": {},
   "outputs": [
    {
     "name": "stdout",
     "output_type": "stream",
     "text": [
      "123456789012345\n"
     ]
    }
   ],
   "source": [
    "y = 123456789012345\n",
    "print(y)"
   ]
  },
  {
   "cell_type": "code",
   "execution_count": 14,
   "id": "bf64ee9d",
   "metadata": {},
   "outputs": [
    {
     "name": "stdout",
     "output_type": "stream",
     "text": [
      "28\n",
      "32\n"
     ]
    }
   ],
   "source": [
    "import sys\n",
    "print(sys.getsizeof(x)) # data size of the variable x in which its value is stored\n",
    "print(sys.getsizeof(y))"
   ]
  },
  {
   "cell_type": "code",
   "execution_count": 15,
   "id": "1dd508d1",
   "metadata": {},
   "outputs": [
    {
     "name": "stdout",
     "output_type": "stream",
     "text": [
      "101\n",
      "140704804208552\n",
      "\n",
      "205\n",
      "140704804211880\n"
     ]
    }
   ],
   "source": [
    "x = 101\n",
    "print(x)\n",
    "print(id(x))\n",
    "\n",
    "print()\n",
    "\n",
    "x = 205 # this is stored in the new memory not previous one where 101 is stored\n",
    "print(x)\n",
    "print(id(x))"
   ]
  },
  {
   "cell_type": "code",
   "execution_count": 16,
   "id": "d172ae7a",
   "metadata": {},
   "outputs": [
    {
     "name": "stdout",
     "output_type": "stream",
     "text": [
      "29.75 -1.75\n"
     ]
    }
   ],
   "source": [
    "# float variables\n",
    "a = 29.75\n",
    "b = -1.75\n",
    "print(a, b)"
   ]
  },
  {
   "cell_type": "code",
   "execution_count": 17,
   "id": "47db9bfa",
   "metadata": {},
   "outputs": [
    {
     "name": "stdout",
     "output_type": "stream",
     "text": [
      "12500.0\n",
      "-250.0 -0.031\n"
     ]
    }
   ],
   "source": [
    "# floating point representation\n",
    "f = 1.25e4 # it is equivalent of 1.25 * 10^4 = 12500.0\n",
    "print(f)\n",
    "\n",
    "c = -2.5E2\n",
    "d = -3.1e-2\n",
    "print(c, d)"
   ]
  }
 ],
 "metadata": {
  "kernelspec": {
   "display_name": "Python 3",
   "language": "python",
   "name": "python3"
  },
  "language_info": {
   "codemirror_mode": {
    "name": "ipython",
    "version": 3
   },
   "file_extension": ".py",
   "mimetype": "text/x-python",
   "name": "python",
   "nbconvert_exporter": "python",
   "pygments_lexer": "ipython3",
   "version": "3.11.9"
  }
 },
 "nbformat": 4,
 "nbformat_minor": 5
}
