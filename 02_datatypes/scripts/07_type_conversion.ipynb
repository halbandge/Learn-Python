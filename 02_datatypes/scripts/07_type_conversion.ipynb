{
 "cells": [
  {
   "cell_type": "markdown",
   "id": "3e81ca3b",
   "metadata": {},
   "source": [
    "### function to convert from other datatypes to corresponding data types\n",
    "\n",
    "- int()\n",
    "- float()\n",
    "- bool()\n",
    "- complex()\n",
    "- str()"
   ]
  },
  {
   "cell_type": "code",
   "execution_count": 3,
   "id": "c5a0cd88",
   "metadata": {},
   "outputs": [
    {
     "name": "stdout",
     "output_type": "stream",
     "text": [
      "16\n",
      "1\n",
      "0\n",
      "10\n",
      "<class 'str'>\n",
      "10\n",
      "<class 'int'>\n"
     ]
    }
   ],
   "source": [
    "# int()\n",
    "# we can convert float, boolean and string to integer datatypes\n",
    "\n",
    "print(int(16.59)) # 16\n",
    "print(int(True)) # 1\n",
    "print(int(False)) # 0\n",
    "\n",
    "x = '10'\n",
    "print(x)\n",
    "print(type(x))\n",
    "\n",
    "x = int(x)\n",
    "print(x)\n",
    "print(type(x))\n",
    "\n",
    "# x = \"Alexa\"\n",
    "# print(int(x)) -> this will throw an error"
   ]
  },
  {
   "cell_type": "code",
   "execution_count": null,
   "id": "60419d84",
   "metadata": {},
   "outputs": [
    {
     "name": "stdout",
     "output_type": "stream",
     "text": [
      "125.0 <class 'float'>\n",
      "1.0\n",
      "12.67\n"
     ]
    }
   ],
   "source": [
    "# float()\n",
    "# we can convert integer, boolean and string to float datatypes\n",
    "\n",
    "i = 125\n",
    "b = True\n",
    "s = '12.67'\n",
    "\n",
    "x = float(i) \n",
    "print(x, type(x))\n",
    "\n",
    "print(float(b))\n",
    "\n",
    "print(float(s))"
   ]
  },
  {
   "cell_type": "code",
   "execution_count": null,
   "id": "f0cdbf79",
   "metadata": {},
   "outputs": [
    {
     "name": "stdout",
     "output_type": "stream",
     "text": [
      "True <class 'bool'>\n",
      "True\n",
      "True\n",
      "True\n",
      "True\n",
      "False\n",
      "False\n",
      "False\n",
      "False\n"
     ]
    }
   ],
   "source": [
    "# bool()\n",
    "# we can convert all datatypes to boolean\n",
    "# we can get True if we pass anything until False, 0 or empty string\n",
    "\n",
    "i1 = 10\n",
    "i2 = -12\n",
    "f = -1.2e3\n",
    "c = 3+4j\n",
    "s = 'False'\n",
    "d = False\n",
    "e = ''\n",
    "f2 = 0\n",
    "\n",
    "x = bool(i)\n",
    "print(x, type(x))\n",
    "\n",
    "print(bool(i2))\n",
    "\n",
    "print(bool(f))\n",
    "\n",
    "print(bool(c))\n",
    "\n",
    "print(bool(s))\n",
    "\n",
    "print(bool(d)) # False\n",
    "\n",
    "print(bool(e)) # False \n",
    " \n",
    "print(bool(f2)) # False\n",
    "\n",
    "print(bool()) # False"
   ]
  },
  {
   "cell_type": "code",
   "execution_count": null,
   "id": "336e6ee8",
   "metadata": {},
   "outputs": [
    {
     "name": "stdout",
     "output_type": "stream",
     "text": [
      "10 <class 'str'>\n",
      "-12\n",
      "-1200.0\n",
      "False\n",
      "(3+5j)\n"
     ]
    }
   ],
   "source": [
    "# str()\n",
    "# we can convert all datatypes to string\n",
    "\n",
    "i1 = 10\n",
    "i2 = -12\n",
    "i3 = -1.2e3\n",
    "i4 = False\n",
    "i5 = 3+5j\n",
    "\n",
    "x = str(i1)\n",
    "print(x, type(x))"
   ]
  },
  {
   "cell_type": "code",
   "execution_count": 10,
   "id": "b7a0bdbf",
   "metadata": {},
   "outputs": [
    {
     "data": {
      "text/plain": [
       "'-12'"
      ]
     },
     "execution_count": 10,
     "metadata": {},
     "output_type": "execute_result"
    }
   ],
   "source": [
    "str(i2)"
   ]
  },
  {
   "cell_type": "code",
   "execution_count": 11,
   "id": "f0048ea3",
   "metadata": {},
   "outputs": [
    {
     "data": {
      "text/plain": [
       "'-1200.0'"
      ]
     },
     "execution_count": 11,
     "metadata": {},
     "output_type": "execute_result"
    }
   ],
   "source": [
    "str(i3)"
   ]
  },
  {
   "cell_type": "code",
   "execution_count": 12,
   "id": "208561dd",
   "metadata": {},
   "outputs": [
    {
     "data": {
      "text/plain": [
       "'False'"
      ]
     },
     "execution_count": 12,
     "metadata": {},
     "output_type": "execute_result"
    }
   ],
   "source": [
    "str(i4)"
   ]
  },
  {
   "cell_type": "code",
   "execution_count": 13,
   "id": "0faab814",
   "metadata": {},
   "outputs": [
    {
     "data": {
      "text/plain": [
       "'(3+5j)'"
      ]
     },
     "execution_count": 13,
     "metadata": {},
     "output_type": "execute_result"
    }
   ],
   "source": [
    "str(i5)"
   ]
  }
 ],
 "metadata": {
  "kernelspec": {
   "display_name": "Python 3",
   "language": "python",
   "name": "python3"
  },
  "language_info": {
   "codemirror_mode": {
    "name": "ipython",
    "version": 3
   },
   "file_extension": ".py",
   "mimetype": "text/x-python",
   "name": "python",
   "nbconvert_exporter": "python",
   "pygments_lexer": "ipython3",
   "version": "3.11.9"
  }
 },
 "nbformat": 4,
 "nbformat_minor": 5
}
