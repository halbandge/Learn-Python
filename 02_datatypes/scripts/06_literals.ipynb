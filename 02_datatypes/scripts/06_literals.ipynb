{
 "cells": [
  {
   "cell_type": "code",
   "execution_count": 2,
   "id": "09aa38e6",
   "metadata": {},
   "outputs": [
    {
     "name": "stdout",
     "output_type": "stream",
     "text": [
      "201 135236198\n"
     ]
    }
   ],
   "source": [
    "a = 201\n",
    "b = 13_52_36_198 # this is equivalent of 13,52,36,198\n",
    "print(a, b)"
   ]
  },
  {
   "cell_type": "code",
   "execution_count": 10,
   "id": "7183ade8",
   "metadata": {},
   "outputs": [
    {
     "name": "stdout",
     "output_type": "stream",
     "text": [
      "10 10 10 10\n"
     ]
    }
   ],
   "source": [
    "# integer literals\n",
    "a = 10\n",
    "b = 0b1010 # in binary form\n",
    "c = 0o12 # in octal form\n",
    "d = 0xA # in hexadecimal form\n",
    "print(a, b, c, d)"
   ]
  },
  {
   "cell_type": "code",
   "execution_count": null,
   "id": "967f1c07",
   "metadata": {},
   "outputs": [
    {
     "name": "stdout",
     "output_type": "stream",
     "text": [
      "0b1010 0o12 0xa\n"
     ]
    }
   ],
   "source": [
    "# decimal to binary, octal and hexadecimal\n",
    "s1 = bin(10)\n",
    "s2 = oct(10)\n",
    "s3 = hex(10)\n",
    "print(s1, s2, s3)"
   ]
  },
  {
   "cell_type": "code",
   "execution_count": 3,
   "id": "bb66e497",
   "metadata": {},
   "outputs": [
    {
     "name": "stdout",
     "output_type": "stream",
     "text": [
      "9.72 15.0\n"
     ]
    }
   ],
   "source": [
    "a = 9.72\n",
    "b = 15.0\n",
    "print(a, b)"
   ]
  },
  {
   "cell_type": "code",
   "execution_count": 4,
   "id": "00bbf123",
   "metadata": {},
   "outputs": [
    {
     "data": {
      "text/plain": [
       "float"
      ]
     },
     "execution_count": 4,
     "metadata": {},
     "output_type": "execute_result"
    }
   ],
   "source": [
    "type(b)"
   ]
  },
  {
   "cell_type": "code",
   "execution_count": 5,
   "id": "a9616bb5",
   "metadata": {},
   "outputs": [
    {
     "name": "stdout",
     "output_type": "stream",
     "text": [
      "1200.0 0.126\n"
     ]
    }
   ],
   "source": [
    "c = 12E2\n",
    "d = 12.6e-2\n",
    "print(c, d)"
   ]
  },
  {
   "cell_type": "code",
   "execution_count": 6,
   "id": "d60dd526",
   "metadata": {},
   "outputs": [
    {
     "name": "stdout",
     "output_type": "stream",
     "text": [
      "125.67\n"
     ]
    }
   ],
   "source": [
    "e = 12_5.6_7\n",
    "print(e)"
   ]
  },
  {
   "cell_type": "code",
   "execution_count": 9,
   "id": "822abc50",
   "metadata": {},
   "outputs": [
    {
     "name": "stdout",
     "output_type": "stream",
     "text": [
      "Alexa Alexa \"Alexa\" 'Alexa' Alexa\n"
     ]
    }
   ],
   "source": [
    "name = 'Alexa'\n",
    "name1 = 'Alexa'\n",
    "name2 = '\"Alexa\"'\n",
    "name3 = \"'Alexa'\"\n",
    "name4 = \"\"\"Alexa\"\"\"\n",
    "print(name, name1, name2, name3, name4)"
   ]
  },
  {
   "cell_type": "code",
   "execution_count": null,
   "id": "53933151",
   "metadata": {},
   "outputs": [],
   "source": []
  }
 ],
 "metadata": {
  "kernelspec": {
   "display_name": "Python 3",
   "language": "python",
   "name": "python3"
  },
  "language_info": {
   "codemirror_mode": {
    "name": "ipython",
    "version": 3
   },
   "file_extension": ".py",
   "mimetype": "text/x-python",
   "name": "python",
   "nbconvert_exporter": "python",
   "pygments_lexer": "ipython3",
   "version": "3.11.9"
  }
 },
 "nbformat": 4,
 "nbformat_minor": 5
}
