{
 "cells": [
  {
   "cell_type": "code",
   "execution_count": null,
   "id": "784516a3",
   "metadata": {},
   "outputs": [
    {
     "name": "stdout",
     "output_type": "stream",
     "text": [
      "Area = 75\n"
     ]
    }
   ],
   "source": [
    "# area of rectangle\n",
    "\n",
    "length = 15\n",
    "breadth = 5\n",
    "area_rectangle = length * breadth\n",
    "print(\"Area of Rectangle=\", area_rectangle)"
   ]
  },
  {
   "cell_type": "code",
   "execution_count": 5,
   "id": "dae50f55",
   "metadata": {},
   "outputs": [
    {
     "name": "stdout",
     "output_type": "stream",
     "text": [
      "Area of Triangle: 25.0\n"
     ]
    }
   ],
   "source": [
    "# area of triangle\n",
    "base = 10\n",
    "height = 5\n",
    "area_triangle = (base * height) / 2\n",
    "print(\"Area of Triangle:\", area_triangle)"
   ]
  },
  {
   "cell_type": "code",
   "execution_count": 6,
   "id": "c00ca34e",
   "metadata": {},
   "outputs": [
    {
     "name": "stdout",
     "output_type": "stream",
     "text": [
      "Area of trapezium: 52.5\n"
     ]
    }
   ],
   "source": [
    "# area of trapezium\n",
    "first_parallel_side = 5\n",
    "second_parallel_side = 10\n",
    "height = 7\n",
    "area_trapezium = 1/2 * (first_parallel_side + second_parallel_side) * height\n",
    "print(\"Area of trapezium:\", area_trapezium)"
   ]
  },
  {
   "cell_type": "code",
   "execution_count": 8,
   "id": "850570b9",
   "metadata": {},
   "outputs": [
    {
     "name": "stdout",
     "output_type": "stream",
     "text": [
      "Area of circle: 314.1592653589793\n"
     ]
    }
   ],
   "source": [
    "# area of circle\n",
    "radius = 10\n",
    "\n",
    "import math\n",
    "area_circle = math.pi * (radius ** 2)\n",
    "print(\"Area of circle:\", area_circle)"
   ]
  },
  {
   "cell_type": "code",
   "execution_count": 10,
   "id": "350f09fd",
   "metadata": {},
   "outputs": [
    {
     "name": "stdout",
     "output_type": "stream",
     "text": [
      "Input Kilometers: 15\n",
      "Miles = 9.320565\n"
     ]
    }
   ],
   "source": [
    "# convert kilometers to miles\n",
    "kilometers = int(input(\"Enter kilometers:\"))\n",
    "print(\"Input Kilometers:\", kilometers)\n",
    "miles = kilometers * 0.621371\n",
    "print(\"Miles =\", miles)"
   ]
  },
  {
   "cell_type": "code",
   "execution_count": 11,
   "id": "24bdd354",
   "metadata": {},
   "outputs": [
    {
     "name": "stdout",
     "output_type": "stream",
     "text": [
      "Initial velocity (u): 4\n",
      "Final velocity (v): 6\n",
      "Acceleration (a): 3\n",
      "Displacement: 3.3333333333333335\n"
     ]
    }
   ],
   "source": [
    "# calculate displacement\n",
    "initial_velocity = int(input(\"Enter initial velocity:\"))\n",
    "final_velocity = int(input(\"Enter final velocity:\"))\n",
    "acceleration = int(input(\"Enter acceleration:\"))\n",
    "\n",
    "print(\"Initial velocity (u):\", initial_velocity)\n",
    "print(\"Final velocity (v):\", final_velocity)\n",
    "print(\"Acceleration (a):\", acceleration)\n",
    "\n",
    "displacement = ((final_velocity * final_velocity) - (initial_velocity * initial_velocity)) / (2 * acceleration)\n",
    "print(\"Displacement:\", displacement)"
   ]
  },
  {
   "cell_type": "code",
   "execution_count": 12,
   "id": "b986afc0",
   "metadata": {},
   "outputs": [
    {
     "name": "stdout",
     "output_type": "stream",
     "text": [
      "Total Surface Area is 310.0\n"
     ]
    }
   ],
   "source": [
    "# surface area of cuboid\n",
    "length = float(input('Enter Length'))\n",
    "breadth = float(input('Enter Breadth'))\n",
    "height = float(input('Enter Height'))\n",
    "area = 2 * (length * breadth + length * height + breadth * height)\n",
    "print('Total Surface Area is', area)"
   ]
  },
  {
   "cell_type": "code",
   "execution_count": 13,
   "id": "351a0113",
   "metadata": {},
   "outputs": [
    {
     "name": "stdout",
     "output_type": "stream",
     "text": [
      "Roots are  -2.0 -3.0\n"
     ]
    }
   ],
   "source": [
    "# roots of quadratic equations\n",
    "import math\n",
    "\n",
    "a = int(input('Enter a value'))\n",
    "b = int(input('Enter b value'))\n",
    "c = int(input('Enter c value'))\n",
    "root1 = (-b + math.sqrt(b**2 - 4 * a * c))/(2 * a)\n",
    "root2 = (-b - math.sqrt(b**2 - 4 * a * c))/(2 * a)\n",
    "print('Roots are ', root1, root2)"
   ]
  },
  {
   "cell_type": "code",
   "execution_count": null,
   "id": "5f63ab4e",
   "metadata": {},
   "outputs": [],
   "source": []
  }
 ],
 "metadata": {
  "kernelspec": {
   "display_name": "Python 3",
   "language": "python",
   "name": "python3"
  },
  "language_info": {
   "codemirror_mode": {
    "name": "ipython",
    "version": 3
   },
   "file_extension": ".py",
   "mimetype": "text/x-python",
   "name": "python",
   "nbconvert_exporter": "python",
   "pygments_lexer": "ipython3",
   "version": "3.11.9"
  }
 },
 "nbformat": 4,
 "nbformat_minor": 5
}
